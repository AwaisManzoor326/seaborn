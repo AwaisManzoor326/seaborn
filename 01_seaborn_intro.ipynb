{
 "cells": [
  {
   "cell_type": "markdown",
   "id": "81bcb9d6",
   "metadata": {},
   "source": [
    "Seaborn is an amazing data visualization library for statistical graphics plotting in Python. It provides beautiful default styles and colour palettes to make statistical plots more attractive. It is built on the top of the matplotlib library and also closely integrated to the data structures from pandas."
   ]
  },
  {
   "cell_type": "code",
   "execution_count": 4,
   "id": "b6ab378b",
   "metadata": {},
   "outputs": [],
   "source": [
    "import seaborn \n",
    "import pandas\n",
    "import matplotlib\n",
    "import scipy"
   ]
  },
  {
   "cell_type": "markdown",
   "id": "e3979681",
   "metadata": {},
   "source": [
    "In this section, we are going to see how to import in-built datasets from seaborn that are automatically downloaded at the time of installation. You can also use Pandas to import any dataset but using in-built datasets can come really handy when practising  Seaborn. Here is how we can get a list of all datasets that are in-built in Seaborn\n",
    "\n"
   ]
  },
  {
   "cell_type": "code",
   "execution_count": 5,
   "id": "90d54a94",
   "metadata": {},
   "outputs": [
    {
     "name": "stdout",
     "output_type": "stream",
     "text": [
      "['anagrams', 'anscombe', 'attention', 'brain_networks', 'car_crashes', 'diamonds', 'dots', 'dowjones', 'exercise', 'flights', 'fmri', 'geyser', 'glue', 'healthexp', 'iris', 'mpg', 'penguins', 'planets', 'seaice', 'taxis', 'tips', 'titanic']\n"
     ]
    }
   ],
   "source": [
    "print(seaborn.get_dataset_names())"
   ]
  },
  {
   "cell_type": "markdown",
   "id": "7ccb348e",
   "metadata": {},
   "source": [
    "Now let us import any one of those datasets and visualize the data in the coming sections"
   ]
  },
  {
   "cell_type": "code",
   "execution_count": 7,
   "id": "b04709e3",
   "metadata": {},
   "outputs": [
    {
     "name": "stdout",
     "output_type": "stream",
     "text": [
      "   total  speeding  alcohol  not_distracted  no_previous  ins_premium  \\\n",
      "0   18.8     7.332    5.640          18.048       15.040       784.55   \n",
      "1   18.1     7.421    4.525          16.290       17.014      1053.48   \n",
      "2   18.6     6.510    5.208          15.624       17.856       899.47   \n",
      "3   22.4     4.032    5.824          21.056       21.280       827.34   \n",
      "4   12.0     4.200    3.360          10.920       10.680       878.41   \n",
      "\n",
      "   ins_losses abbrev  \n",
      "0      145.08     AL  \n",
      "1      133.93     AK  \n",
      "2      110.35     AZ  \n",
      "3      142.39     AR  \n",
      "4      165.63     CA  \n"
     ]
    }
   ],
   "source": [
    "df = seaborn.load_dataset('car_crashes')\n",
    "print(df.head())"
   ]
  }
 ],
 "metadata": {
  "kernelspec": {
   "display_name": "base",
   "language": "python",
   "name": "python3"
  },
  "language_info": {
   "codemirror_mode": {
    "name": "ipython",
    "version": 3
   },
   "file_extension": ".py",
   "mimetype": "text/x-python",
   "name": "python",
   "nbconvert_exporter": "python",
   "pygments_lexer": "ipython3",
   "version": "3.13.5"
  }
 },
 "nbformat": 4,
 "nbformat_minor": 5
}
